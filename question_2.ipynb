{
 "cells": [
  {
   "cell_type": "code",
   "execution_count": null,
   "metadata": {},
   "outputs": [],
   "source": [
    "\\begin{problem}{Лучший студент [Numpy]}{stdin}{stdout}{1 second(s)}{64 MiB}\n",
    " Напишите функцию $\\text{the_best_student}$, которая принимает на вход numpy-массив, находит лучшего студента (его средняя оценка выше средней оценки по всем студентам).\n",
    "\\InputFile\n",
    "\n",
    "\\OutputFile\n",
    "\n",
    "\\Examples\n",
    "\\begin{example}\n",
    "\\exmp{[[10, 8, 7, 9, 6], \n",
    "          [9, 8, 8, 8, 9], \n",
    "          [7, 8, 10, 8, 8]]}\n",
    "{not best not} {2}\n",
    "\\end{example}\\Note\n",
    " При сдаче этого задания выберите компилятор make2\n",
    "\\end{problem}"
   ]
  }
 ],
 "metadata": {
  "kernelspec": {
   "display_name": "Python 3",
   "language": "python",
   "name": "python3"
  },
  "language_info": {
   "codemirror_mode": {
    "name": "ipython",
    "version": 3
   },
   "file_extension": ".py",
   "mimetype": "text/x-python",
   "name": "python",
   "nbconvert_exporter": "python",
   "pygments_lexer": "ipython3",
   "version": "3.7.6"
  }
 },
 "nbformat": 4,
 "nbformat_minor": 4
}
